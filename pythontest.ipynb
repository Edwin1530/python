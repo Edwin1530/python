{
 "cells": [
  {
   "cell_type": "code",
   "execution_count": 1,
   "id": "373551d6-ae9a-46e7-9f9d-a95f2fa85ef1",
   "metadata": {},
   "outputs": [
    {
     "data": {
      "text/plain": [
       "2"
      ]
     },
     "execution_count": 1,
     "metadata": {},
     "output_type": "execute_result"
    }
   ],
   "source": [
    "2\n"
   ]
  },
  {
   "cell_type": "code",
   "execution_count": 4,
   "id": "d75ceb99-0f15-4492-b396-b5fe08692bc2",
   "metadata": {},
   "outputs": [],
   "source": [
    "def f(x):\n",
    "    return 'a'*3"
   ]
  },
  {
   "cell_type": "code",
   "execution_count": 5,
   "id": "a041a876-ed7a-4a3a-b1e0-bb20beb096cd",
   "metadata": {},
   "outputs": [
    {
     "data": {
      "text/plain": [
       "'aaa'"
      ]
     },
     "execution_count": 5,
     "metadata": {},
     "output_type": "execute_result"
    }
   ],
   "source": [
    "f(6)"
   ]
  },
  {
   "cell_type": "code",
   "execution_count": 6,
   "id": "42b1336e-8ae6-46c5-8e61-f67cc47eadc6",
   "metadata": {},
   "outputs": [
    {
     "data": {
      "text/plain": [
       "'aaa'"
      ]
     },
     "execution_count": 6,
     "metadata": {},
     "output_type": "execute_result"
    }
   ],
   "source": [
    "f(4)"
   ]
  },
  {
   "cell_type": "code",
   "execution_count": 8,
   "id": "c11618e9-3e11-490c-ad44-823b84c6a396",
   "metadata": {},
   "outputs": [
    {
     "data": {
      "text/plain": [
       "'aaa'"
      ]
     },
     "execution_count": 8,
     "metadata": {},
     "output_type": "execute_result"
    }
   ],
   "source": [
    "f('a')"
   ]
  },
  {
   "cell_type": "code",
   "execution_count": 9,
   "id": "53421c3f-e39e-48d9-beb0-eb7de0671a4a",
   "metadata": {},
   "outputs": [],
   "source": [
    "def f2(y):\n",
    "    return y + 'a'"
   ]
  },
  {
   "cell_type": "code",
   "execution_count": 10,
   "id": "b2598570-f516-4335-ae74-e91b7eeb70e9",
   "metadata": {},
   "outputs": [
    {
     "data": {
      "text/plain": [
       "'aa'"
      ]
     },
     "execution_count": 10,
     "metadata": {},
     "output_type": "execute_result"
    }
   ],
   "source": [
    "f2('a')"
   ]
  },
  {
   "cell_type": "code",
   "execution_count": 11,
   "id": "701a3c3c-9a29-4b56-b22c-f1343cd81128",
   "metadata": {},
   "outputs": [
    {
     "data": {
      "text/plain": [
       "'ya'"
      ]
     },
     "execution_count": 11,
     "metadata": {},
     "output_type": "execute_result"
    }
   ],
   "source": [
    "f2('y')"
   ]
  },
  {
   "cell_type": "code",
   "execution_count": 12,
   "id": "d4a34f19-398f-433e-9c28-59afbb8448cf",
   "metadata": {},
   "outputs": [],
   "source": [
    "def f3(y:str)->str:\n",
    "    return y + 'a'"
   ]
  },
  {
   "cell_type": "code",
   "execution_count": 13,
   "id": "f1cc8448-397b-44ce-b19e-dd247492b2b7",
   "metadata": {},
   "outputs": [
    {
     "data": {
      "text/plain": [
       "'ya'"
      ]
     },
     "execution_count": 13,
     "metadata": {},
     "output_type": "execute_result"
    }
   ],
   "source": [
    "f3('y')"
   ]
  },
  {
   "cell_type": "code",
   "execution_count": 14,
   "id": "d36b5ef0-0102-4e58-9b58-ffb97708cb45",
   "metadata": {},
   "outputs": [],
   "source": [
    "t = [1,2,3]"
   ]
  },
  {
   "cell_type": "code",
   "execution_count": 16,
   "id": "57df76c2-ac1b-410f-880a-778c4113b123",
   "metadata": {},
   "outputs": [
    {
     "ename": "NameError",
     "evalue": "name 'T' is not defined",
     "output_type": "error",
     "traceback": [
      "\u001b[0;31m---------------------------------------------------------------------------\u001b[0m",
      "\u001b[0;31mNameError\u001b[0m                                 Traceback (most recent call last)",
      "Cell \u001b[0;32mIn[16], line 1\u001b[0m\n\u001b[0;32m----> 1\u001b[0m \u001b[43mT\u001b[49m[\u001b[38;5;241m1\u001b[39m]\n",
      "\u001b[0;31mNameError\u001b[0m: name 'T' is not defined"
     ]
    }
   ],
   "source": [
    "T[1]"
   ]
  },
  {
   "cell_type": "code",
   "execution_count": 17,
   "id": "ca5a3d96-507d-415f-95d3-35e5bb3b357d",
   "metadata": {},
   "outputs": [
    {
     "ename": "NameError",
     "evalue": "name 'T' is not defined",
     "output_type": "error",
     "traceback": [
      "\u001b[0;31m---------------------------------------------------------------------------\u001b[0m",
      "\u001b[0;31mNameError\u001b[0m                                 Traceback (most recent call last)",
      "Cell \u001b[0;32mIn[17], line 1\u001b[0m\n\u001b[0;32m----> 1\u001b[0m \u001b[43mT\u001b[49m[\u001b[38;5;241m4\u001b[39m]\n",
      "\u001b[0;31mNameError\u001b[0m: name 'T' is not defined"
     ]
    }
   ],
   "source": [
    "T[4]"
   ]
  },
  {
   "cell_type": "code",
   "execution_count": null,
   "id": "460a23d3-398d-43bf-8099-84c7a1823191",
   "metadata": {},
   "outputs": [],
   "source": []
  }
 ],
 "metadata": {
  "kernelspec": {
   "display_name": "Python 3 (ipykernel)",
   "language": "python",
   "name": "python3"
  },
  "language_info": {
   "codemirror_mode": {
    "name": "ipython",
    "version": 3
   },
   "file_extension": ".py",
   "mimetype": "text/x-python",
   "name": "python",
   "nbconvert_exporter": "python",
   "pygments_lexer": "ipython3",
   "version": "3.11.9"
  }
 },
 "nbformat": 4,
 "nbformat_minor": 5
}
